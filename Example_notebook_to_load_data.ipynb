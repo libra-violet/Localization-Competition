{
 "cells": [
  {
   "cell_type": "code",
   "execution_count": 1,
   "metadata": {},
   "outputs": [],
   "source": [
    "import os\n",
    "os.environ[\"CUDA_VISIBLE_DEVICES\"]=\"2\"  # specify which GPU(s) to be used\n",
    "import numpy as np\n",
    "import h5py\n",
    "import matplotlib.pyplot as plt\n",
    "import os.path"
   ]
  },
  {
   "cell_type": "code",
   "execution_count": 2,
   "metadata": {},
   "outputs": [],
   "source": [
    "CTW_labelled = \"/notebooks/bigdisk1/data/hdf5_files/data_files/data_challenge/CTW2020_labelled_data/\""
   ]
  },
  {
   "cell_type": "code",
   "execution_count": 3,
   "metadata": {},
   "outputs": [],
   "source": [
    "def get_data(data_file):\n",
    "    \n",
    "    f = h5py.File(data_file, 'r')\n",
    "    H_Re = f['H_Re'][:] #shape (sample size, 56, 924, 5)\n",
    "    H_Im = f['H_Im'][:] #shape (sample size, 56, 924, 5)\n",
    "    SNR = f['SNR'][:] #shape (sample size, 56, 5)\n",
    "    Pos = f['Pos'][:] #shape(sample size, 3)\n",
    "    f.close()\n",
    "            \n",
    "    return H_Re, H_Im, SNR, Pos        "
   ]
  },
  {
   "cell_type": "code",
   "execution_count": 6,
   "metadata": {},
   "outputs": [
    {
     "name": "stdout",
     "output_type": "stream",
     "text": [
      "H_Re is of shape (512, 56, 924, 5)\n",
      "H_Im is of shape (512, 56, 924, 5)\n",
      "SNR is of shape (512, 56, 5)\n",
      "Pos is of shape (512, 3)\n"
     ]
    }
   ],
   "source": [
    "### example code to load data from file_1.hdf4  ###\n",
    "\n",
    "data_file = CTW_labelled+\"file_\"+str(1)+\".hdf5\"\n",
    "H_Re, H_Im, SNR, Pos = get_data(data_file)\n",
    "print(\"H_Re is of shape {}\".format(H_Re.shape))\n",
    "print(\"H_Im is of shape {}\".format(H_Im.shape))\n",
    "print(\"SNR is of shape {}\".format(SNR.shape))\n",
    "print(\"Pos is of shape {}\".format(Pos.shape))"
   ]
  },
  {
   "cell_type": "code",
   "execution_count": null,
   "metadata": {},
   "outputs": [],
   "source": []
  }
 ],
 "metadata": {
  "kernelspec": {
   "display_name": "Python 3",
   "language": "python",
   "name": "python3"
  },
  "language_info": {
   "codemirror_mode": {
    "name": "ipython",
    "version": 3
   },
   "file_extension": ".py",
   "mimetype": "text/x-python",
   "name": "python",
   "nbconvert_exporter": "python",
   "pygments_lexer": "ipython3",
   "version": "3.6.8"
  }
 },
 "nbformat": 4,
 "nbformat_minor": 2
}
